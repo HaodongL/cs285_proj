{
  "nbformat": 4,
  "nbformat_minor": 0,
  "metadata": {
    "colab": {
      "provenance": []
    },
    "kernelspec": {
      "name": "python3",
      "display_name": "Python 3"
    },
    "language_info": {
      "name": "python"
    },
    "gpuClass": "standard"
  },
  "cells": [
    {
      "cell_type": "code",
      "source": [
        "import os\n",
        "import numpy as np\n",
        "import pandas as pd\n",
        "from google.colab import drive\n",
        "drive.mount('/content/gdrive')"
      ],
      "metadata": {
        "colab": {
          "base_uri": "https://localhost:8080/"
        },
        "id": "VdbWFbw8k27E",
        "outputId": "feda8721-2dae-4449-d901-f56c04f83c0c"
      },
      "execution_count": 3,
      "outputs": [
        {
          "output_type": "stream",
          "name": "stdout",
          "text": [
            "Mounted at /content/gdrive\n"
          ]
        }
      ]
    },
    {
      "cell_type": "code",
      "source": [
        "SYM_PATH = '/content/gdrive/MyDrive/cs285_f2022/proj'\n",
        "%cd $SYM_PATH"
      ],
      "metadata": {
        "colab": {
          "base_uri": "https://localhost:8080/"
        },
        "id": "KQ-Pp94ylDIs",
        "outputId": "d9efa330-1f3d-47a4-9144-29ee9dd5ae9f"
      },
      "execution_count": 4,
      "outputs": [
        {
          "output_type": "stream",
          "name": "stdout",
          "text": [
            "/content/gdrive/MyDrive/cs285_f2022/proj\n"
          ]
        }
      ]
    },
    {
      "cell_type": "code",
      "execution_count": 1,
      "metadata": {
        "id": "Ca9yGjxiiYjI",
        "colab": {
          "base_uri": "https://localhost:8080/"
        },
        "outputId": "2e3b52ee-c4c7-4ddb-b257-d74507e9b442"
      },
      "outputs": [
        {
          "output_type": "stream",
          "name": "stdout",
          "text": [
            "Looking in indexes: https://pypi.org/simple, https://us-python.pkg.dev/colab-wheels/public/simple/\n",
            "Collecting git+https://github.com/HaodongL/cs285_proj\n",
            "  Cloning https://github.com/HaodongL/cs285_proj to /tmp/pip-req-build-q31z8kb8\n",
            "  Running command git clone -q https://github.com/HaodongL/cs285_proj /tmp/pip-req-build-q31z8kb8\n",
            "  Installing build dependencies ... \u001b[?25l\u001b[?25hdone\n",
            "  Getting requirements to build wheel ... \u001b[?25l\u001b[?25hdone\n",
            "    Preparing wheel metadata ... \u001b[?25l\u001b[?25hdone\n",
            "Requirement already satisfied: joblib>=0.13 in /usr/local/lib/python3.8/dist-packages (from contextualbandits==0.3.19) (1.2.0)\n",
            "Requirement already satisfied: numpy>=1.17 in /usr/local/lib/python3.8/dist-packages (from contextualbandits==0.3.19) (1.21.6)\n",
            "Requirement already satisfied: pandas>=0.25.0 in /usr/local/lib/python3.8/dist-packages (from contextualbandits==0.3.19) (1.3.5)\n",
            "Requirement already satisfied: scikit-learn>=0.22 in /usr/local/lib/python3.8/dist-packages (from contextualbandits==0.3.19) (1.0.2)\n",
            "Requirement already satisfied: cython in /usr/local/lib/python3.8/dist-packages (from contextualbandits==0.3.19) (0.29.32)\n",
            "Requirement already satisfied: scipy in /usr/local/lib/python3.8/dist-packages (from contextualbandits==0.3.19) (1.7.3)\n",
            "Requirement already satisfied: python-dateutil>=2.7.3 in /usr/local/lib/python3.8/dist-packages (from pandas>=0.25.0->contextualbandits==0.3.19) (2.8.2)\n",
            "Requirement already satisfied: pytz>=2017.3 in /usr/local/lib/python3.8/dist-packages (from pandas>=0.25.0->contextualbandits==0.3.19) (2022.6)\n",
            "Requirement already satisfied: six>=1.5 in /usr/local/lib/python3.8/dist-packages (from python-dateutil>=2.7.3->pandas>=0.25.0->contextualbandits==0.3.19) (1.15.0)\n",
            "Requirement already satisfied: threadpoolctl>=2.0.0 in /usr/local/lib/python3.8/dist-packages (from scikit-learn>=0.22->contextualbandits==0.3.19) (3.1.0)\n",
            "Building wheels for collected packages: contextualbandits\n",
            "  Building wheel for contextualbandits (PEP 517) ... \u001b[?25l\u001b[?25hdone\n",
            "  Created wheel for contextualbandits: filename=contextualbandits-0.3.19-cp38-cp38-linux_x86_64.whl size=1294648 sha256=9b712705870ce3e9c86268abc371cfc64a61458f0008608db7fb2f024ca92e86\n",
            "  Stored in directory: /tmp/pip-ephem-wheel-cache-5cd1tiwt/wheels/17/0a/30/3c93bb6cfafe38041ba0e83f45fbed1c1d33170f1161f37622\n",
            "Successfully built contextualbandits\n",
            "Installing collected packages: contextualbandits\n",
            "Successfully installed contextualbandits-0.3.19\n"
          ]
        }
      ],
      "source": [
        "#!pip install contextualbandits\n",
        "!pip install git+https://github.com/HaodongL/cs285_proj"
      ]
    },
    {
      "cell_type": "code",
      "source": [
        "!pip install costsensitive"
      ],
      "metadata": {
        "id": "A5laypScQi5k",
        "colab": {
          "base_uri": "https://localhost:8080/"
        },
        "outputId": "e8ba21f8-b172-4feb-e8b3-25452c97bc12"
      },
      "execution_count": null,
      "outputs": [
        {
          "output_type": "stream",
          "name": "stdout",
          "text": [
            "Looking in indexes: https://pypi.org/simple, https://us-python.pkg.dev/colab-wheels/public/simple/\n",
            "Collecting costsensitive\n",
            "  Downloading costsensitive-0.1.2.13.post6.tar.gz (13 kB)\n",
            "  Installing build dependencies ... \u001b[?25l\u001b[?25hdone\n",
            "  Getting requirements to build wheel ... \u001b[?25l\u001b[?25hdone\n",
            "    Preparing wheel metadata ... \u001b[?25l\u001b[?25hdone\n",
            "Requirement already satisfied: scipy in /usr/local/lib/python3.7/dist-packages (from costsensitive) (1.7.3)\n",
            "Requirement already satisfied: numpy>=1.17 in /usr/local/lib/python3.7/dist-packages (from costsensitive) (1.21.6)\n",
            "Requirement already satisfied: cython in /usr/local/lib/python3.7/dist-packages (from costsensitive) (0.29.32)\n",
            "Requirement already satisfied: joblib>=0.13 in /usr/local/lib/python3.7/dist-packages (from costsensitive) (1.2.0)\n",
            "Building wheels for collected packages: costsensitive\n",
            "  Building wheel for costsensitive (PEP 517) ... \u001b[?25l\u001b[?25hdone\n",
            "  Created wheel for costsensitive: filename=costsensitive-0.1.2.13.post6-cp37-cp37m-linux_x86_64.whl size=76523 sha256=1bdc737cfe8c9d4e39255b4f1cdfe9f09c3fc29a0aab02265509c877619cae9e\n",
            "  Stored in directory: /root/.cache/pip/wheels/6e/7c/73/6226eeb7dfea1687df052bee5752ae739b9c00b4a884d8df1b\n",
            "Successfully built costsensitive\n",
            "Installing collected packages: costsensitive\n",
            "Successfully installed costsensitive-0.1.2.13.post6\n"
          ]
        }
      ]
    },
    {
      "cell_type": "code",
      "source": [
        "# Policy evaluation"
      ],
      "metadata": {
        "id": "RTKKlvN4MqiL"
      },
      "execution_count": null,
      "outputs": []
    },
    {
      "cell_type": "code",
      "source": [
        "import pandas as pd, numpy as np, re\n",
        "from sklearn.preprocessing import MultiLabelBinarizer\n",
        "from sklearn.datasets import load_svmlight_file\n",
        "\n",
        "def parse_data(filename):\n",
        "    with open(filename, \"rb\") as f:\n",
        "        infoline = f.readline()\n",
        "        infoline = re.sub(r\"^b'\", \"\", str(infoline))\n",
        "        n_features = int(re.sub(r\"^\\d+\\s(\\d+)\\s\\d+.*$\", r\"\\1\", infoline))\n",
        "        features, labels = load_svmlight_file(f, n_features=n_features, multilabel=True)\n",
        "    mlb = MultiLabelBinarizer()\n",
        "    labels = mlb.fit_transform(labels)\n",
        "    features = np.array(features.todense())\n",
        "    features = np.ascontiguousarray(features)\n",
        "    return features, labels\n",
        "\n",
        "features, y = parse_data(\"Bibtex_data.txt\")\n",
        "print(features.shape)\n",
        "print(y.shape)"
      ],
      "metadata": {
        "colab": {
          "base_uri": "https://localhost:8080/"
        },
        "id": "8XVrha2uM1N6",
        "outputId": "a26cc4ed-fc7c-4042-a2c7-3a7e325604fc"
      },
      "execution_count": 5,
      "outputs": [
        {
          "output_type": "stream",
          "name": "stdout",
          "text": [
            "(7395, 1836)\n",
            "(7395, 159)\n"
          ]
        }
      ]
    },
    {
      "cell_type": "code",
      "source": [
        "from sklearn.linear_model import LogisticRegression\n",
        "\n",
        "# the 'explorer' polcy will be fit to this small sample of the rows\n",
        "st_seed = 0\n",
        "end_seed = 2000\n",
        "\n",
        "# then it will choose actions for this larger sample, which will be the input for the new policy\n",
        "st_exploration = 0\n",
        "end_exploration = 3000\n",
        "\n",
        "# the new policy will be evaluated with a separate test set\n",
        "st_test = 3000\n",
        "end_test = 7395\n",
        "\n",
        "# separating the covariates data for each case\n",
        "Xseed = features[st_seed:end_seed, :]\n",
        "Xexplore_sample = features[st_exploration:end_exploration, :]\n",
        "Xtest = features[st_test:end_test, :]\n",
        "nchoices = y.shape[1]\n",
        "\n",
        "# now constructing an exploration policy as explained above, with fully-labeled data\n",
        "explorer = LogisticRegression(C=0.1, solver=\"lbfgs\", max_iter=15000)\n",
        "explorer.fit(Xseed, np.argmax(y[st_seed:end_seed], axis=1))\n",
        "\n",
        "# letting the exploration policy choose actions for the new policy input\n",
        "actions_explore_sample=explorer.predict(Xexplore_sample)\n",
        "rewards_explore_sample=y[st_exploration:end_exploration, :]\\\n",
        "                        [np.arange(end_exploration - st_exploration), actions_explore_sample]\n",
        "\n",
        "# extracting the probabilities it estimated\n",
        "ix_internal_actions = {j:i for i,j in enumerate(explorer.classes_)}\n",
        "ix_internal_actions = [ix_internal_actions[i] for i in actions_explore_sample]\n",
        "ix_internal_actions = np.array(ix_internal_actions)\n",
        "prob_actions_explore = explorer.predict_proba(Xexplore_sample)[np.arange(Xexplore_sample.shape[0]),\n",
        "                                                               ix_internal_actions]\n",
        "\n",
        "# generating a test set with random actions\n",
        "actions_test = np.random.randint(nchoices, size=end_test - st_test)\n",
        "rewards_test = y[st_test:end_test, :][np.arange(end_test - st_test), actions_test]"
      ],
      "metadata": {
        "id": "fzI8P_85MtZu"
      },
      "execution_count": 6,
      "outputs": []
    },
    {
      "cell_type": "code",
      "source": [
        "# Rejection sampling estimate:\n",
        "from contextualbandits.online import SeparateClassifiers\n",
        "from contextualbandits.evaluation import evaluateRejectionSampling\n",
        "\n",
        "new_policy = SeparateClassifiers(LogisticRegression(C=0.1, solver=\"lbfgs\", max_iter=15000),\n",
        "                                 y.shape[1], smoothing=(1,2), beta_prior=None, random_state=123)\n",
        "new_policy.fit(Xexplore_sample, actions_explore_sample, rewards_explore_sample)\n",
        "est_r, ncases = evaluateRejectionSampling(new_policy, X=Xtest, a=actions_test, r=rewards_test,\n",
        "                                          online=False)\n",
        "real_r = np.mean(y[st_test:end_test,:][np.arange(end_test - st_test), new_policy.predict(Xtest)])\n",
        "\n",
        "print('Test set Rejection Sampling mean reward estimate (new policy)')\n",
        "print('Estimated mean reward: ',est_r)\n",
        "print('Sample size: ', ncases)\n",
        "print('----------------')\n",
        "print('Real mean reward: ', real_r)"
      ],
      "metadata": {
        "colab": {
          "base_uri": "https://localhost:8080/"
        },
        "id": "euNhHyopNQhX",
        "outputId": "727e4be2-c39e-4708-a9d8-8743a2d72d82"
      },
      "execution_count": 23,
      "outputs": [
        {
          "output_type": "stream",
          "name": "stdout",
          "text": [
            "Test set Rejection Sampling mean reward estimate (new policy)\n",
            "Estimated mean reward:  0.21428571428571427\n",
            "Sample size:  28\n",
            "----------------\n",
            "Real mean reward:  0.1447098976109215\n"
          ]
        }
      ]
    },
    {
      "cell_type": "code",
      "source": [
        "est_r, ncases = evaluateRejectionSampling(explorer, X=Xtest, a=actions_test, r=rewards_test, online=False)\n",
        "real_r = np.mean(y[st_test:end_test, :][np.arange(end_test - st_test), explorer.predict(Xtest)])\n",
        "\n",
        "print('Test set Rejection Sampling mean reward estimate (old policy)')\n",
        "print('Estimated mean reward: ', est_r)\n",
        "print('Sample size: ', ncases)\n",
        "print('----------------')\n",
        "print('Real mean reward: ', real_r)"
      ],
      "metadata": {
        "colab": {
          "base_uri": "https://localhost:8080/"
        },
        "id": "tCWdshYiNYM_",
        "outputId": "212029f3-7956-4170-cc23-0c9b30b80e96"
      },
      "execution_count": 15,
      "outputs": [
        {
          "output_type": "stream",
          "name": "stdout",
          "text": [
            "Test set Rejection Sampling mean reward estimate (old policy)\n",
            "Estimated mean reward:  0.4117647058823529\n",
            "Sample size:  34\n",
            "----------------\n",
            "Real mean reward:  0.4814562002275313\n"
          ]
        }
      ]
    },
    {
      "cell_type": "code",
      "source": [
        "# try DR (new policy)\n",
        "from contextualbandits.evaluation import evaluateDoublyRobust\n",
        "# import statsmodels.api as sm\n",
        "\n",
        "prob_actions_test = np.array([1/nchoices] * len(actions_test))\n",
        "\n",
        "\n",
        "# actions that the new policy will choose\n",
        "pred = new_policy.predict(Xtest)\n",
        "\n",
        "\n",
        "# method 2: estimating rewards by fitting another model to the test data only\n",
        "est_r_dr_test_only = evaluateDoublyRobust(pred, X=Xtest, a=actions_test,\n",
        "                                          r=rewards_test, p=prob_actions_test,\n",
        "                                          reward_estimator=LogisticRegression(C=0.1, solver=\"lbfgs\", max_iter=15000),\n",
        "                                          nchoices=y.shape[1], random_state=123)\n",
        "\n",
        "real_r = np.mean(y[st_test:end_test, :][np.arange(end_test - st_test), new_policy.predict(Xtest)])\n",
        "print('Test set mean reward estimates (new policy)')\n",
        "print('DR estimate (reward estimator fit on test only): ', est_r_dr_test_only)\n",
        "print('----------------')\n",
        "print('Real mean reward: ', real_r)"
      ],
      "metadata": {
        "colab": {
          "base_uri": "https://localhost:8080/"
        },
        "id": "NtRBvricnEMf",
        "outputId": "4c3fc24b-9794-447b-9353-123aad05c945"
      },
      "execution_count": 16,
      "outputs": [
        {
          "output_type": "stream",
          "name": "stdout",
          "text": [
            "Test set mean reward estimates (new policy)\n",
            "DR estimate (reward estimator fit on test only):  0.13288557604022555\n",
            "----------------\n",
            "Real mean reward:  0.1447098976109215\n"
          ]
        }
      ]
    },
    {
      "cell_type": "code",
      "source": [
        "# try TMLE (new policy)\n",
        "from contextualbandits.evaluation import evaluateTMLE\n",
        "# import statsmodels.api as sm\n",
        "\n",
        "prob_actions_test = np.array([1/nchoices] * len(actions_test))\n",
        "\n",
        "\n",
        "# actions that the new policy will choose\n",
        "pred = new_policy.predict(Xtest)\n",
        "\n",
        "\n",
        "# method 2: estimating rewards by fitting another model to the test data only\n",
        "est_r_tmle_test_only = evaluateTMLE(pred, X=Xtest, a=actions_test,\n",
        "                                          r=rewards_test, p=prob_actions_test,\n",
        "                                          reward_estimator=LogisticRegression(C=0.1, solver=\"lbfgs\", max_iter=15000),\n",
        "                                          nchoices=y.shape[1], random_state=123)\n",
        "\n",
        "real_r = np.mean(y[st_test:end_test, :][np.arange(end_test - st_test), new_policy.predict(Xtest)])\n",
        "print('Test set mean reward estimates (new policy)')\n",
        "print('TMLE estimate (reward estimator fit on test only): ', est_r_tmle_test_only)\n",
        "print('----------------')\n",
        "print('Real mean reward: ', real_r)"
      ],
      "metadata": {
        "colab": {
          "base_uri": "https://localhost:8080/"
        },
        "id": "OdVgJaueo2hJ",
        "outputId": "10206eaa-e309-4f87-8503-50c890a30224"
      },
      "execution_count": 17,
      "outputs": [
        {
          "output_type": "stream",
          "name": "stdout",
          "text": [
            "Test set mean reward estimates (new policy)\n",
            "TMLE estimate (reward estimator fit on test only):  0.1328864208445578\n",
            "----------------\n",
            "Real mean reward:  0.1447098976109215\n"
          ]
        }
      ]
    },
    {
      "cell_type": "code",
      "source": [
        "# Plot"
      ],
      "metadata": {
        "id": "-uuXNmG5rDXS"
      },
      "execution_count": null,
      "outputs": []
    },
    {
      "cell_type": "code",
      "source": [
        "import matplotlib.pyplot as plt, pandas as pd\n",
        "import seaborn as sns\n",
        "from pylab import rcParams\n",
        "%matplotlib inline\n",
        "\n",
        "results = pd.DataFrame({\n",
        "    'Off-policy Evaluation Method' : ['Reject_Sampling', 'Doubly-Robust','TMLE'],\n",
        "    'Test set mean reward' : [est_r, est_r_dr_test_only, est_r_tmle_test_only]\n",
        "})\n",
        "\n",
        "sns.set(font_scale = 0.8)\n",
        "rcParams['figure.figsize'] = 10, 7\n",
        "sns.barplot(x = \"Off-policy Evaluation Method\", y=\"Test set mean reward\", data=results)\n",
        "plt.axhline(y=real_r, color='black', linestyle='-')\n",
        "# plt.title('Off-policy evaluation on Bibtex dataset (classifier is logistic regression)')\n",
        "plt.savefig(\"p_offpolicy_eval\")"
      ],
      "metadata": {
        "colab": {
          "base_uri": "https://localhost:8080/",
          "height": 447
        },
        "id": "OW90kDnJrExR",
        "outputId": "416cd60f-0fa9-48ba-c352-57f87ff490c3"
      },
      "execution_count": 27,
      "outputs": [
        {
          "output_type": "display_data",
          "data": {
            "text/plain": [
              "<Figure size 720x504 with 1 Axes>"
            ],
            "image/png": "[encoded data removed]"
          },
          "metadata": {}
        }
      ]
    },
    {
      "cell_type": "code",
      "source": [
        "# Biased sample"
      ],
      "metadata": {
        "id": "JBRSCRHbnJwt"
      },
      "execution_count": null,
      "outputs": []
    },
    {
      "cell_type": "code",
      "source": [
        "actions_test_biased = explorer.predict(Xtest)\n",
        "rewards_test_biased = y[st_test:end_test, :][np.arange(end_test - st_test), actions_test_biased]\n",
        "est_r, ncases = evaluateRejectionSampling(new_policy, X=Xtest, a=actions_test_biased,\n",
        "                                          r=rewards_test_biased, online=False)\n",
        "real_r = np.mean(y[st_test:end_test, :][np.arange(end_test - st_test), new_policy.predict(Xtest)])\n",
        "\n",
        "print('Biased Test set Rejection Sampling mean reward estimate (new policy)')\n",
        "print('Estimated mean reward: ', est_r)\n",
        "print('Sample size: ', ncases)\n",
        "print('----------------')\n",
        "print('Real mean reward: ', real_r)\n",
        "print(\"(Don't try rejection sampling on a biased test set)\")"
      ],
      "metadata": {
        "colab": {
          "base_uri": "https://localhost:8080/"
        },
        "id": "uc4Sas4eNfUi",
        "outputId": "ee42367a-7398-410e-e030-509981d30325"
      },
      "execution_count": null,
      "outputs": [
        {
          "output_type": "stream",
          "name": "stdout",
          "text": [
            "Biased Test set Rejection Sampling mean reward estimate (new policy)\n",
            "Estimated mean reward:  1.0\n",
            "Sample size:  551\n",
            "----------------\n",
            "Real mean reward:  0.1447098976109215\n",
            "(Don't try rejection sampling on a biased test set)\n"
          ]
        }
      ]
    },
    {
      "cell_type": "code",
      "source": [
        "from contextualbandits.evaluation import evaluateDoublyRobust\n",
        "# import statsmodels.api as sm\n",
        "\n",
        "# getting estimated probabilities for the biased test sample chosen by the old policy\n",
        "ix_internal_actions = {j:i for i,j in enumerate(explorer.classes_)}\n",
        "ix_internal_actions = [ix_internal_actions[i] for i in actions_test_biased]\n",
        "ix_internal_actions = np.array(ix_internal_actions)\n",
        "prob_actions_test_biased = explorer.predict_proba(Xtest)[np.arange(Xtest.shape[0]), ix_internal_actions]\n",
        "\n",
        "\n",
        "# actions that the new policy will choose\n",
        "pred = new_policy.predict(Xtest)\n",
        "\n",
        "# method 1: estimating rewards by fitting another model to the whole data (train + test)\n",
        "model_fit_on_all_data = SeparateClassifiers(LogisticRegression(C=0.1, solver=\"lbfgs\", max_iter=15000),\n",
        "                                            y.shape[1], random_state=123)\n",
        "model_fit_on_all_data.fit(np.r_[Xexplore_sample, Xtest],\n",
        "                          np.r_[actions_explore_sample, actions_test_biased],\n",
        "                          np.r_[rewards_explore_sample, rewards_test_biased])\n",
        "est_r_dr_whole = evaluateDoublyRobust(pred,\n",
        "                                      X=Xtest, a=actions_test_biased, r=rewards_test_biased,\n",
        "                                      p=prob_actions_test_biased, reward_estimator=model_fit_on_all_data,\n",
        "                                      random_state=123)\n",
        "\n",
        "# method 2: estimating rewards by fitting another model to the test data only\n",
        "est_r_dr_test_only = evaluateDoublyRobust(pred, X=Xtest, a=actions_test_biased,\n",
        "                                          r=rewards_test_biased, p=prob_actions_test_biased,\n",
        "                                          reward_estimator=LogisticRegression(C=0.1, solver=\"lbfgs\", max_iter=15000),\n",
        "                                          nchoices=y.shape[1], random_state=123)\n",
        "\n",
        "print('Biased Test set mean reward estimates (new policy)')\n",
        "print('DR estimate (reward estimator fit on train+test): ', est_r_dr_whole)\n",
        "print('DR estimate (reward estimator fit on test only): ', est_r_dr_test_only)\n",
        "print('----------------')\n",
        "print('Real mean reward: ', real_r)"
      ],
      "metadata": {
        "colab": {
          "base_uri": "https://localhost:8080/"
        },
        "id": "avuEq8r4NAOH",
        "outputId": "21857300-eb8b-467e-aa74-70fb120ddd35"
      },
      "execution_count": null,
      "outputs": [
        {
          "output_type": "stream",
          "name": "stdout",
          "text": [
            "Biased Test set mean reward estimates (new policy)\n",
            "DR estimate (reward estimator fit on train+test):  0.7806511111850939\n",
            "DR estimate (reward estimator fit on test only):  0.7838130617873124\n",
            "----------------\n",
            "Real mean reward:  0.1447098976109215\n"
          ]
        }
      ]
    },
    {
      "cell_type": "code",
      "source": [
        "from contextualbandits.evaluation import evaluateDoublyRobust\n",
        "# import statsmodels.api as sm\n",
        "\n",
        "# getting estimated probabilities for the biased test sample chosen by the old policy\n",
        "# ix_internal_actions = {j:i for i,j in enumerate(explorer.classes_)}\n",
        "# ix_internal_actions = [ix_internal_actions[i] for i in actions_test_biased]\n",
        "# ix_internal_actions = np.array(ix_internal_actions)\n",
        "# prob_actions_test_biased = explorer.predict_proba(Xtest)[np.arange(Xtest.shape[0]), ix_internal_actions]\n",
        "\n",
        "# temp\n",
        "actions_test_biased = actions_test\n",
        "prob_actions_test_biased = np.array([1/len(actions_test)] * len(actions_test))\n",
        "rewards_test_biased = rewards_test \n",
        "\n",
        "# actions that the new policy will choose\n",
        "# pred = new_policy.predict(Xtest)\n",
        "# temp\n",
        "pred = explorer.predict(Xtest)\n",
        "\n",
        "# method 1: estimating rewards by fitting another model to the whole data (train + test)\n",
        "model_fit_on_all_data = SeparateClassifiers(LogisticRegression(C=0.1, solver=\"lbfgs\", max_iter=15000),\n",
        "                                            y.shape[1], random_state=123)\n",
        "model_fit_on_all_data.fit(np.r_[Xexplore_sample, Xtest],\n",
        "                          np.r_[actions_explore_sample, actions_test_biased],\n",
        "                          np.r_[rewards_explore_sample, rewards_test_biased])\n",
        "est_r_dr_whole = evaluateDoublyRobust(pred,\n",
        "                                      X=Xtest, a=actions_test_biased, r=rewards_test_biased,\n",
        "                                      p=prob_actions_test_biased, reward_estimator=model_fit_on_all_data,\n",
        "                                      random_state=123)\n",
        "\n",
        "# method 2: estimating rewards by fitting another model to the test data only\n",
        "est_r_dr_test_only = evaluateDoublyRobust(pred, X=Xtest, a=actions_test_biased,\n",
        "                                          r=rewards_test_biased, p=prob_actions_test_biased,\n",
        "                                          reward_estimator=LogisticRegression(C=0.1, solver=\"lbfgs\", max_iter=15000),\n",
        "                                          nchoices=y.shape[1], random_state=123)\n",
        "\n",
        "print('Biased Test set mean reward estimates (new policy)')\n",
        "print('DR estimate (reward estimator fit on train+test): ', est_r_dr_whole)\n",
        "print('DR estimate (reward estimator fit on test only): ', est_r_dr_test_only)\n",
        "print('----------------')\n",
        "print('Real mean reward: ', real_r)"
      ],
      "metadata": {
        "colab": {
          "base_uri": "https://localhost:8080/"
        },
        "id": "2FipdaBBLDvT",
        "outputId": "c98ad602-13c0-41b1-ebb2-240a22345314"
      },
      "execution_count": null,
      "outputs": [
        {
          "output_type": "stream",
          "name": "stdout",
          "text": [
            "Biased Test set mean reward estimates (new policy)\n",
            "DR estimate (reward estimator fit on train+test):  0.6295344115377745\n",
            "DR estimate (reward estimator fit on test only):  0.17204916680517077\n",
            "----------------\n",
            "Real mean reward:  0.4814562002275313\n"
          ]
        }
      ]
    }
  ]
}