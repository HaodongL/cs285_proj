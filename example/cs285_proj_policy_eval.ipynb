{
  "nbformat": 4,
  "nbformat_minor": 0,
  "metadata": {
    "colab": {
      "provenance": []
    },
    "kernelspec": {
      "name": "python3",
      "display_name": "Python 3"
    },
    "language_info": {
      "name": "python"
    },
    "gpuClass": "standard"
  },
  "cells": [
    {
      "cell_type": "code",
      "source": [
        "import os\n",
        "import numpy as np\n",
        "import pandas as pd\n",
        "from google.colab import drive\n",
        "drive.mount('/content/gdrive')"
      ],
      "metadata": {
        "colab": {
          "base_uri": "https://localhost:8080/"
        },
        "id": "Oh0lkbZNSqFo",
        "outputId": "317bc485-04b2-4663-a9ed-d1ef062ca156"
      },
      "execution_count": 4,
      "outputs": [
        {
          "output_type": "stream",
          "name": "stdout",
          "text": [
            "Mounted at /content/gdrive\n"
          ]
        }
      ]
    },
    {
      "cell_type": "code",
      "source": [
        "SYM_PATH = '/content/gdrive/MyDrive/cs285_f2022/proj'\n",
        "%cd $SYM_PATH"
      ],
      "metadata": {
        "colab": {
          "base_uri": "https://localhost:8080/"
        },
        "id": "Qe0hMYSVhWW0",
        "outputId": "29f7e7d2-197b-4708-d720-9a414b0f147b"
      },
      "execution_count": 6,
      "outputs": [
        {
          "output_type": "stream",
          "name": "stdout",
          "text": [
            "/content/gdrive/MyDrive/cs285_f2022/proj\n"
          ]
        }
      ]
    },
    {
      "cell_type": "code",
      "execution_count": null,
      "metadata": {
        "id": "Ca9yGjxiiYjI"
      },
      "outputs": [],
      "source": [
        "# install contextualbandits\n",
        "!pip install git+https://github.com/HaodongL/cs285_proj\n",
        "!pip install costsensitive"
      ]
    },
    {
      "cell_type": "code",
      "source": [
        "# Off-policy Learning in Contextual Bandits"
      ],
      "metadata": {
        "id": "NomoQsxoPGiZ"
      },
      "execution_count": 13,
      "outputs": []
    },
    {
      "cell_type": "code",
      "source": [
        "import pandas as pd, numpy as np, re\n",
        "from sklearn.preprocessing import MultiLabelBinarizer\n",
        "from sklearn.datasets import load_svmlight_file\n",
        "\n",
        "def parse_data(filename):\n",
        "    with open(filename, \"rb\") as f:\n",
        "        infoline = f.readline()\n",
        "        infoline = re.sub(r\"^b'\", \"\", str(infoline))\n",
        "        n_features = int(re.sub(r\"^\\d+\\s(\\d+)\\s\\d+.*$\", r\"\\1\", infoline))\n",
        "        features, labels = load_svmlight_file(f, n_features=n_features, multilabel=True)\n",
        "    mlb = MultiLabelBinarizer()\n",
        "    labels = mlb.fit_transform(labels)\n",
        "    features = np.array(features.todense())\n",
        "    features = np.ascontiguousarray(features)\n",
        "    return features, labels\n",
        "\n",
        "features, y = parse_data(\"Bibtex_data.txt\")\n",
        "print(features.shape)\n",
        "print(y.shape)"
      ],
      "metadata": {
        "colab": {
          "base_uri": "https://localhost:8080/"
        },
        "id": "1pTwCaT5PNcB",
        "outputId": "708bfe29-61e2-43fa-caa7-0c57facb4318"
      },
      "execution_count": 9,
      "outputs": [
        {
          "output_type": "stream",
          "name": "stdout",
          "text": [
            "(7395, 1836)\n",
            "(7395, 159)\n"
          ]
        }
      ]
    },
    {
      "cell_type": "code",
      "source": [
        "from sklearn.linear_model import LogisticRegression\n",
        "\n",
        "# the 'explorer' polcy will be fit with this small sample of the rows\n",
        "st_seed = 0\n",
        "end_seed = 3000\n",
        "\n",
        "# then it will choose actions for this larger sample\n",
        "st_exploration = 0\n",
        "end_exploration = 5000\n",
        "\n",
        "# the new policy will be evaluated with a separate test set\n",
        "st_test = 5000\n",
        "end_test = 7395\n",
        "\n",
        "# separating the covariates data for each case\n",
        "Xseed = features[st_seed:end_seed, :]\n",
        "Xexplore_sample = features[st_exploration:end_exploration, :]\n",
        "Xtest = features[st_test:end_test, :]\n",
        "nchoices = y.shape[1]\n",
        "\n",
        "# now constructing an exploration policy as explained above, with fully-labeled data\n",
        "explorer = LogisticRegression(solver=\"lbfgs\", max_iter=15000)\n",
        "explorer.fit(Xseed, np.argmax(y[st_seed:end_seed], axis=1))\n",
        "\n",
        "# letting the exploration policy choose actions for the new policy input\n",
        "actions_explore_sample = explorer.predict(Xexplore_sample)\n",
        "rewards_explore_sample = y[st_exploration:end_exploration, :]\\\n",
        "                        [np.arange(end_exploration - st_exploration), actions_explore_sample]\n",
        "\n",
        "# extracting the probabilities it estimated\n",
        "ix_internal_actions = {j:i for i,j in enumerate(explorer.classes_)}\n",
        "ix_internal_actions = [ix_internal_actions[i] for i in actions_explore_sample]\n",
        "ix_internal_actions = np.array(ix_internal_actions)\n",
        "prob_actions_explore = explorer.predict_proba(Xexplore_sample)[np.arange(Xexplore_sample.shape[0]),\n",
        "                                                               ix_internal_actions]"
      ],
      "metadata": {
        "id": "UnKCZnZzPRJK"
      },
      "execution_count": 10,
      "outputs": []
    },
    {
      "cell_type": "code",
      "source": [
        "from contextualbandits.online import SeparateClassifiers\n",
        "from sklearn.linear_model import LogisticRegression\n",
        "\n",
        "new_policy = SeparateClassifiers(base_algorithm=LogisticRegression(solver=\"lbfgs\", max_iter=15000),\n",
        "                                 nchoices=y.shape[1], beta_prior=None, smoothing=None)\n",
        "new_policy.fit(X=Xexplore_sample, a=actions_explore_sample, r=rewards_explore_sample)\n",
        "mean_reward_naive = np.mean(y[st_test:end_test, :]\\\n",
        "                             [np.arange(end_test - st_test), new_policy.predict(Xtest)])\n",
        "print(\"Test set mean reward - Separate Classifiers: \", mean_reward_naive)"
      ],
      "metadata": {
        "colab": {
          "base_uri": "https://localhost:8080/"
        },
        "id": "R_J1dtZBPR1p",
        "outputId": "e9047dba-24ec-4307-93ae-047a8ee7e7f0"
      },
      "execution_count": 11,
      "outputs": [
        {
          "output_type": "stream",
          "name": "stdout",
          "text": [
            "Test set mean reward - Separate Classifiers:  0.01962421711899791\n"
          ]
        }
      ]
    },
    {
      "cell_type": "code",
      "source": [
        "from contextualbandits.online import SeparateClassifiers\n",
        "from sklearn.linear_model import LogisticRegression\n",
        "\n",
        "new_policy = SeparateClassifiers(base_algorithm=LogisticRegression(solver=\"lbfgs\", max_iter=15000),\n",
        "                                 nchoices=y.shape[1], beta_prior=\"auto\")\n",
        "new_policy.fit(X=Xexplore_sample, a=actions_explore_sample, r=rewards_explore_sample)\n",
        "mean_reward_beta = np.mean(y[st_test:end_test, :]\\\n",
        "                            [np.arange(end_test - st_test), new_policy.predict(Xtest)])\n",
        "print(\"Test set mean reward - Separate Classifiers + Prior: \", mean_reward_beta)"
      ],
      "metadata": {
        "colab": {
          "base_uri": "https://localhost:8080/"
        },
        "id": "8_R_hdvUPT8X",
        "outputId": "af599097-e84c-4813-ad8d-bc8bd6a3383c"
      },
      "execution_count": 12,
      "outputs": [
        {
          "output_type": "stream",
          "name": "stdout",
          "text": [
            "Test set mean reward - Separate Classifiers + Prior:  0.09394572025052192\n"
          ]
        }
      ]
    },
    {
      "cell_type": "code",
      "source": [
        "from contextualbandits.online import SeparateClassifiers\n",
        "from sklearn.linear_model import LogisticRegression\n",
        "\n",
        "new_policy = SeparateClassifiers(base_algorithm=LogisticRegression(solver=\"lbfgs\", max_iter=15000),\n",
        "                                 nchoices=y.shape[1], beta_prior=None, smoothing = (1,2))\n",
        "new_policy.fit(X=Xexplore_sample, a=actions_explore_sample, r=rewards_explore_sample)\n",
        "mean_reward_sm = np.mean(y[st_test:end_test, :]\\\n",
        "                            [np.arange(end_test - st_test), new_policy.predict(Xtest)])\n",
        "print(\"Test set mean reward - Separate Classifiers + Smoothing: \", mean_reward_sm)"
      ],
      "metadata": {
        "colab": {
          "base_uri": "https://localhost:8080/"
        },
        "id": "Xb44P16EPXG8",
        "outputId": "4f7189e7-d184-4bb1-c801-654f14acd1ab"
      },
      "execution_count": 13,
      "outputs": [
        {
          "output_type": "stream",
          "name": "stdout",
          "text": [
            "Test set mean reward - Separate Classifiers + Smoothing:  0.17995824634655533\n"
          ]
        }
      ]
    },
    {
      "cell_type": "code",
      "source": [
        "from contextualbandits.offpolicy import OffsetTree\n",
        "from sklearn.linear_model import LogisticRegression\n",
        "\n",
        "new_policy = OffsetTree(base_algorithm=LogisticRegression(solver=\"lbfgs\", max_iter=15000), nchoices=y.shape[1])\n",
        "new_policy.fit(X=Xexplore_sample, a=actions_explore_sample, r=rewards_explore_sample, p=prob_actions_explore)\n",
        "mean_reward_ot = np.mean(y[st_test:end_test, :][np.arange(end_test - st_test), new_policy.predict(Xtest)])\n",
        "print(\"Test set mean reward - Offset Tree technique: \", mean_reward_ot)"
      ],
      "metadata": {
        "colab": {
          "base_uri": "https://localhost:8080/"
        },
        "id": "eRHG_3PfPejC",
        "outputId": "8f7e3fc4-bbdb-4b87-d6d4-e0c3b555c84e"
      },
      "execution_count": 14,
      "outputs": [
        {
          "output_type": "stream",
          "name": "stdout",
          "text": [
            "Test set mean reward - Offset Tree technique:  0.3173277661795407\n"
          ]
        }
      ]
    },
    {
      "cell_type": "code",
      "source": [
        "from contextualbandits.offpolicy import DoublyRobustEstimator\n",
        "from sklearn.linear_model import LogisticRegression, Ridge\n",
        "\n",
        "new_policy = DoublyRobustEstimator(base_algorithm = Ridge(),\n",
        "                                   reward_estimator = LogisticRegression(solver=\"lbfgs\", max_iter=15000),\n",
        "                                   nchoices = y.shape[1],\n",
        "                                   method = 'rovr', beta_prior = None, smoothing = None)\n",
        "new_policy.fit(X=Xexplore_sample, a=actions_explore_sample, r=rewards_explore_sample, p=prob_actions_explore)\n",
        "mean_reward_dr = np.mean(y[st_test:end_test, :][np.arange(end_test - st_test), new_policy.predict(Xtest)])\n",
        "print(\"Test set mean reward - Doubly-Robust Estimator: \", mean_reward_dr)\n",
        "\n",
        "\n",
        "new_policy = DoublyRobustEstimator(base_algorithm = Ridge(),\n",
        "                                   reward_estimator = LogisticRegression(solver=\"lbfgs\", max_iter=15000),\n",
        "                                   nchoices = y.shape[1],\n",
        "                                   method = 'rovr', beta_prior = \"auto\", smoothing = None)\n",
        "new_policy.fit(X=Xexplore_sample, a=actions_explore_sample, r=rewards_explore_sample, p=prob_actions_explore)\n",
        "mean_reward_dr_prior = np.mean(y[st_test:end_test, :][np.arange(end_test - st_test), new_policy.predict(Xtest)])\n",
        "print(\"Test set mean reward - Doubly-Robust Estimator + Prior: \", mean_reward_dr_prior)\n",
        "\n",
        "\n",
        "new_policy = DoublyRobustEstimator(base_algorithm = Ridge(),\n",
        "                                   reward_estimator = LogisticRegression(solver=\"lbfgs\", max_iter=15000),\n",
        "                                   nchoices = y.shape[1],\n",
        "                                   method = 'rovr', beta_prior = None, smoothing = (1, 2))\n",
        "new_policy.fit(X=Xexplore_sample, a=actions_explore_sample, r=rewards_explore_sample, p=prob_actions_explore)\n",
        "mean_reward_dr_sm = np.mean(y[st_test:end_test, :][np.arange(end_test - st_test), new_policy.predict(Xtest)])\n",
        "print(\"Test set mean reward - Doubly-Robust Estimator + Smoothing: \", mean_reward_dr_sm)"
      ],
      "metadata": {
        "colab": {
          "base_uri": "https://localhost:8080/"
        },
        "id": "QakXf_8BPhYU",
        "outputId": "bf2bb280-b9eb-4e5f-cc3e-50fcf0e38665"
      },
      "execution_count": 18,
      "outputs": [
        {
          "output_type": "stream",
          "name": "stdout",
          "text": [
            "Test set mean reward - Doubly-Robust Estimator:  0.04634655532359081\n",
            "Test set mean reward - Doubly-Robust Estimator + Prior:  0.08058455114822546\n",
            "Test set mean reward - Doubly-Robust Estimator + Smoothing:  0.07348643006263048\n"
          ]
        }
      ]
    },
    {
      "cell_type": "code",
      "source": [
        "from contextualbandits.offpolicy import TMLE_Estimator\n",
        "new_policy = TMLE_Estimator(base_algorithm = Ridge(),\n",
        "                                   reward_estimator = LogisticRegression(solver=\"lbfgs\", max_iter=15000),\n",
        "                                   nchoices = y.shape[1],\n",
        "                                   method = 'rovr', beta_prior = None, smoothing = None)\n",
        "new_policy.fit(X=Xexplore_sample, a=actions_explore_sample, r=rewards_explore_sample, p=prob_actions_explore)\n",
        "mean_reward_tmle = np.mean(y[st_test:end_test, :][np.arange(end_test - st_test), new_policy.predict(Xtest)])\n",
        "print(\"Test set mean reward - TMLE_Estimator Estimator: \", mean_reward_tmle)\n",
        "\n",
        "new_policy = TMLE_Estimator(base_algorithm = Ridge(),\n",
        "                                   reward_estimator = LogisticRegression(solver=\"lbfgs\", max_iter=15000),\n",
        "                                   nchoices = y.shape[1],\n",
        "                                   method = 'rovr', beta_prior = \"auto\", smoothing = None)\n",
        "new_policy.fit(X=Xexplore_sample, a=actions_explore_sample, r=rewards_explore_sample, p=prob_actions_explore)\n",
        "mean_reward_tmle_prior = np.mean(y[st_test:end_test, :][np.arange(end_test - st_test), new_policy.predict(Xtest)])\n",
        "print(\"Test set mean reward - TMLE_Estimator Estimator + Prior: \", mean_reward_tmle_prior)\n",
        "\n",
        "new_policy = TMLE_Estimator(base_algorithm = Ridge(),\n",
        "                                   reward_estimator = LogisticRegression(solver=\"lbfgs\", max_iter=15000),\n",
        "                                   nchoices = y.shape[1],\n",
        "                                   method = 'rovr', beta_prior = None, smoothing = (1, 2))\n",
        "new_policy.fit(X=Xexplore_sample, a=actions_explore_sample, r=rewards_explore_sample, p=prob_actions_explore)\n",
        "mean_reward_tmle_sm = np.mean(y[st_test:end_test, :][np.arange(end_test - st_test), new_policy.predict(Xtest)])\n",
        "print(\"Test set mean reward - TMLE_Estimator Estimator + Smoothing: \", mean_reward_tmle_sm)"
      ],
      "metadata": {
        "colab": {
          "base_uri": "https://localhost:8080/"
        },
        "id": "4kQO4oJEEK8q",
        "outputId": "0c55f943-ee88-41a3-e2b2-ba1769397ff1"
      },
      "execution_count": 19,
      "outputs": [
        {
          "output_type": "stream",
          "name": "stdout",
          "text": [
            "Test set mean reward - TMLE_Estimator Estimator:  0.04634655532359081\n",
            "Test set mean reward - TMLE_Estimator Estimator + Prior:  0.08058455114822546\n",
            "Test set mean reward - TMLE_Estimator Estimator + Smoothing:  0.07348643006263048\n"
          ]
        }
      ]
    },
    {
      "cell_type": "code",
      "source": [
        "import matplotlib.pyplot as plt, pandas as pd\n",
        "import seaborn as sns\n",
        "from pylab import rcParams\n",
        "%matplotlib inline\n",
        "\n",
        "results = pd.DataFrame({\n",
        "    'Off-policy Learning Method' : ['Naive', 'Naive + Prior', 'Naive + Smoothing', \n",
        "                                    'Doubly-Robust','Doubly-Robust + Prior', 'Doubly-Robust + Smoothing', \n",
        "                                    'TMLE','TMLE + Prior', 'TMLE + Smoothing', \n",
        "                                    'Offset Tree'],\n",
        "    'Test set mean reward' : [mean_reward_naive, mean_reward_beta, mean_reward_sm, mean_reward_dr,\n",
        "                              mean_reward_dr_prior, mean_reward_dr_sm, mean_reward_tmle,\n",
        "                              mean_reward_tmle_prior, mean_reward_tmle_sm, mean_reward_ot]\n",
        "})\n",
        "\n",
        "sns.set(font_scale = 0.8)\n",
        "rcParams['figure.figsize'] = 22, 7\n",
        "sns.barplot(x = \"Off-policy Learning Method\", y=\"Test set mean reward\", data=results)\n",
        "plt.title('Off-policy Learning on Bibtex Dataset\\nBase Classifier is Logistic Regression')\n",
        "plt.savefig(\"p_offpolicy\")"
      ],
      "metadata": {
        "colab": {
          "base_uri": "https://localhost:8080/",
          "height": 387
        },
        "id": "lHLfPMjkPwyf",
        "outputId": "f8b9560f-f8a5-472c-c543-1d49525a0298"
      },
      "execution_count": 28,
      "outputs": [
        {
          "output_type": "display_data",
          "data": {
            "text/plain": [
              "<Figure size 1584x504 with 1 Axes>"
            ],
            "image/png": "[encoded data removed]"
          },
          "metadata": {}
        }
      ]
    }
  ]
}