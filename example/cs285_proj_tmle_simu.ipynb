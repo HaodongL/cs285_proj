{
  "nbformat": 4,
  "nbformat_minor": 0,
  "metadata": {
    "colab": {
      "provenance": [],
      "toc_visible": true
    },
    "kernelspec": {
      "name": "python3",
      "display_name": "Python 3"
    },
    "language_info": {
      "name": "python"
    }
  },
  "cells": [
    {
      "cell_type": "code",
      "source": [
        "import os\n",
        "from google.colab import drive\n",
        "\n",
        "drive.mount('/content/gdrive')"
      ],
      "metadata": {
        "id": "ciLyQ0FSUbsU"
      },
      "execution_count": null,
      "outputs": []
    },
    {
      "cell_type": "code",
      "source": [
        "pip install causallib\n",
        "pip install mlens"
      ],
      "metadata": {
        "id": "oAh9R4SVT_0g"
      },
      "execution_count": null,
      "outputs": []
    },
    {
      "cell_type": "code",
      "source": [
        "import pandas as pd \n",
        "import numpy as np \n",
        "from scipy.special import expit\n",
        "from scipy.special import logit\n",
        "import xgboost as xgb\n",
        "import statsmodels.api as sm"
      ],
      "metadata": {
        "id": "qbW1e1UZUFBF"
      },
      "execution_count": null,
      "outputs": []
    },
    {
      "cell_type": "code",
      "source": [
        "# Simulate Data\n",
        "def simu_data(n, family = \"gaussian\"):\n",
        "    W1 = np.random.normal(0, 1, n)\n",
        "    W2 = np.random.uniform(0, 3, n)\n",
        "    W3 = np.random.binomial(1, 0.5, n)\n",
        "\n",
        "    fa = expit(W1 + W2*W3)\n",
        "    A = np.random.binomial(1, fa)\n",
        "\n",
        "    Y = expit(W1 + 1.5*W2 + W1*W2*A + 3*W3*A + 1.5)\n",
        "    Y0 = expit(W1 + 1.5*W2 + 1.5)\n",
        "    Y1 = expit(W1 + 1.5*W2 + W1*W2+ 3*W3 + 1.5)\n",
        "    # fy = expit(W1 + W2 + W1*W3*A)\n",
        "    # Y = 1*(fy >0.5)\n",
        "    # fy0 = expit(W1 + W2)\n",
        "    # Y0 = 1*(fy0 >0.5)\n",
        "    # fy1 = expit(W1 + W2 + W1*W3)\n",
        "    # Y1 = 1*(fy1 >0.5)\n",
        "    df = np.column_stack((Y, Y1, Y0, A, W1, W2, W3))\n",
        "    return(df)\n",
        "    \n",
        "def simu_data2 (n):\n",
        "    w1 = np.random.binomial(1, 0.5, n)\n",
        "    w2 = np.random.normal(0, 1, n)\n",
        "    w3 = np.random.uniform(0, 4, n)\n",
        "    w4 = np.random.uniform(0, 5, n)\n",
        "\n",
        "    fa = expit(-0.4 + 0.2*w2 + 0.15*w3 + 0.2*w4 + 0.15*w2*w4)\n",
        "    # fy1 = expit(-1 + 1 -0.1*w1 + 0.3*w2 + 0.25*w3 + 0.2*w4 + 0.15*w2*w4)\n",
        "    # fy0 = expit(-1 + 0 -0.1*w1 + 0.3*w2 + 0.25*w3 + 0.2*w4 + 0.15*w2*w4)\n",
        "    fy1 = expit(-0.1*w1 + np.sin(0.3*w2) + 0.25*w3 + 0.2*w4 + 0.15*w2*w4)\n",
        "    fy0 = expit(np.sin(0.3*w2) + 0.2*w4 + 0.15*w2*w4)\n",
        "\n",
        "    A = np.random.binomial(1, fa)\n",
        "    Y1 = np.random.binomial(1, fy1)\n",
        "    Y0 = np.random.binomial(1, fy0)\n",
        "    Y = A*Y1 + (1 - A)*Y0\n",
        "\n",
        "    df = np.column_stack((Y, Y1, Y0, A, w1, w2, w3, w4))\n",
        "    return(df)"
      ],
      "metadata": {
        "id": "0EDdakGNlYLj"
      },
      "execution_count": null,
      "outputs": []
    },
    {
      "cell_type": "code",
      "source": [
        "# continuous Y\n",
        "df = simu_data(400)\n",
        "W = df[:,4:]\n",
        "WA = df[:,3:]\n",
        "Y = df[:, 0]\n",
        "A = df[:,3]\n",
        "\n",
        "# true EY1 (or reward under arm 1) 0.93\n",
        "np.mean(df[:, 1])"
      ],
      "metadata": {
        "id": "owhCF83ic0cS"
      },
      "execution_count": null,
      "outputs": []
    },
    {
      "cell_type": "code",
      "source": [
        "# discrete Y\n",
        "df = simu_data2(200)\n",
        "W = df[:,4:]\n",
        "WA = df[:,3:]\n",
        "Y = df[:, 0]\n",
        "A = df[:,3]\n",
        "\n",
        "# true EY1 (or reward under arm 1) 0.696\n",
        "np.mean(df[:, 1]) "
      ],
      "metadata": {
        "colab": {
          "base_uri": "https://localhost:8080/"
        },
        "id": "oJyi_xbIAo70",
        "outputId": "6d855e30-5801-49a5-b844-54a979856d88"
      },
      "execution_count": null,
      "outputs": [
        {
          "output_type": "execute_result",
          "data": {
            "text/plain": [
              "0.685"
            ]
          },
          "metadata": {},
          "execution_count": 4
        }
      ]
    },
    {
      "cell_type": "code",
      "source": [
        "def est_f (df):\n",
        "\n",
        "  W = df[:,4:]\n",
        "  WA = df[:,3:]\n",
        "  Y = df[:, 0]\n",
        "  A = df[:,3]\n",
        "\n",
        "  # fit Q, g\n",
        "  xgb_Q = xgb.XGBClassifier(objective=\"binary:logistic\")\n",
        "  xgb_Q.fit(WA, Y)\n",
        "\n",
        "  xgb_g = xgb.XGBClassifier(objective=\"binary:logistic\")\n",
        "  xgb_g.fit(W, A)\n",
        "\n",
        "  # pred Q\n",
        "  WA_1 = np.copy(WA)\n",
        "  WA_1[:,0] = 1\n",
        "  WA_0 = np.copy(WA)\n",
        "  WA_0[:,0] = 0\n",
        "\n",
        "  Q1n = xgb_Q.predict_proba(WA_1)[:,1]\n",
        "  Q0n = xgb_Q.predict_proba(WA_0)[:,1]\n",
        "  Qan = A*Q1n + (1-A)*Q0n\n",
        "\n",
        "  # pred g\n",
        "  gn = xgb_g.predict_proba(W)[:,1]\n",
        "\n",
        "  # DM\n",
        "  psi_dm = np.mean(Q1n)\n",
        "\n",
        "  # AIPW\n",
        "  psi_aipw = np.mean((Y - Q1n) * A/gn + Q1n)\n",
        "\n",
        "  # logistic update\n",
        "  # gn_c = np.clip(gn, 0.025, 0.975)\n",
        "  gn_c = gn\n",
        "  H1n = 1/gn_c\n",
        "  H0n = 1/(1-gn_c)\n",
        "  Han = A*H1n + (1-A)*np.array([0]*len(A))\n",
        "\n",
        "  logLFM = sm.GLM(Y, \n",
        "                  Han, \n",
        "                  offset = logit(Qan), \n",
        "                  family = sm.families.Binomial()).fit()\n",
        "  eps = logLFM.params.item()\n",
        "  Q1n_star = expit(logit(Q1n) + eps*H1n)\n",
        "\n",
        "  # TMLE\n",
        "  psi_tmle = np.mean(Q1n_star)\n",
        "  return [psi_dm, psi_aipw, psi_tmle]\n"
      ],
      "metadata": {
        "id": "g_rnBYL3xGZF"
      },
      "execution_count": null,
      "outputs": []
    },
    {
      "cell_type": "code",
      "source": [
        "df = simu_data2(200)\n",
        "est_f(df)"
      ],
      "metadata": {
        "colab": {
          "base_uri": "https://localhost:8080/"
        },
        "id": "3xqTwazCyCQY",
        "outputId": "b1c80043-4ca7-45aa-8d30-87487f6f8db5"
      },
      "execution_count": null,
      "outputs": [
        {
          "output_type": "execute_result",
          "data": {
            "text/plain": [
              "[0.73786443, 0.745236352322961, 0.7378543]"
            ]
          },
          "metadata": {},
          "execution_count": 42
        }
      ]
    },
    {
      "cell_type": "code",
      "source": [
        "res_list = []\n",
        "for i in range(500):\n",
        "  print(\"task \", i, \" done\")\n",
        "  df = simu_data2(1000)\n",
        "  res = est_f(df)\n",
        "  res_list.append(res)"
      ],
      "metadata": {
        "id": "J5eYRPYAypzY"
      },
      "execution_count": null,
      "outputs": []
    },
    {
      "cell_type": "code",
      "source": [
        "res_np = np.array(res_list)"
      ],
      "metadata": {
        "id": "EO3jpjblzUuA"
      },
      "execution_count": null,
      "outputs": []
    },
    {
      "cell_type": "code",
      "source": [
        "simu_rounds = np.linspace(1, 500, 500)\n",
        "psi_dm = res_np[:, 0]\n",
        "psi_aipw = res_np[:, 1]\n",
        "psi_tmle = res_np[:, 2]\n",
        "\n",
        "# bias\n",
        "b1 = np.mean(psi_dm - 0.696)\n",
        "b2 = np.mean(psi_aipw - 0.696)\n",
        "b3 = np.mean(psi_tmle - 0.696)\n",
        "\n",
        "# var\n",
        "var1 = np.var(psi_dm)\n",
        "var2 = np.var(psi_aipw)\n",
        "var3 = np.var(psi_tmle)\n",
        "\n",
        "# mse\n",
        "mse1 = b1 **2 + var1\n",
        "mse2 = b2 **2 + var2\n",
        "mse3 = b3 **2 + var3"
      ],
      "metadata": {
        "id": "kH4llCg10a-8"
      },
      "execution_count": null,
      "outputs": []
    },
    {
      "cell_type": "code",
      "source": [
        "res_dc = {'Method': [\"DM\", \"AIPW\", \"TMLE\"], \n",
        "         'Bias': [b1, b2, b3], \n",
        "         'Variance': [var1, var2, var3]}\n",
        "\n",
        "res_df = pd.DataFrame(data=res_dc)"
      ],
      "metadata": {
        "id": "UjN33kerJFUv"
      },
      "execution_count": null,
      "outputs": []
    },
    {
      "cell_type": "code",
      "source": [
        "print(res_df.to_latex(index=False))  "
      ],
      "metadata": {
        "colab": {
          "base_uri": "https://localhost:8080/"
        },
        "id": "WacSqhH5Jy8W",
        "outputId": "eb011033-b7ab-4726-df57-67598fe812e9"
      },
      "execution_count": null,
      "outputs": [
        {
          "output_type": "stream",
          "name": "stdout",
          "text": [
            "\\begin{tabular}{lrr}\n",
            "\\toprule\n",
            "Method &      Bias &  Variance \\\\\n",
            "\\midrule\n",
            "    DM & -0.007596 &  0.000354 \\\\\n",
            "  AIPW & -0.002491 &  0.000377 \\\\\n",
            "  TMLE & -0.000704 &  0.000392 \\\\\n",
            "\\bottomrule\n",
            "\\end{tabular}\n",
            "\n"
          ]
        }
      ]
    },
    {
      "cell_type": "code",
      "source": [
        "import seaborn as sns\n",
        "sns.kdeplot(psi_dm, shade= True, color= \"g\", label=\"DM\")\n",
        "sns.kdeplot(psi_aipw, shade= True, color= \"r\", label=\"AIPW\")\n",
        "sns.kdeplot(psi_tmle, shade= True, color= \"b\", label=\"TMLE\")\n",
        "plt.axvline(x = 0.696, color= \"black\")\n",
        "plt.legend()\n",
        "plt.savefig(\"simu_plot.png\")"
      ],
      "metadata": {
        "id": "fBEUlUksB0v8"
      },
      "execution_count": null,
      "outputs": []
    },
    {
      "cell_type": "code",
      "source": [
        "# example of a super learner for regression using the mlens library\n",
        "from math import sqrt\n",
        "from sklearn.datasets import make_regression\n",
        "from sklearn.model_selection import train_test_split\n",
        "from sklearn.metrics import mean_squared_error\n",
        "from sklearn.metrics import accuracy_score\n",
        "import xgboost as xgb\n",
        "\n",
        "# gaussian\n",
        "from sklearn.linear_model import LinearRegression\n",
        "from sklearn.linear_model import ElasticNet\n",
        "from sklearn.neighbors import KNeighborsRegressor\n",
        "from sklearn.tree import DecisionTreeRegressor\n",
        "from sklearn.svm import SVR\n",
        "from sklearn.ensemble import AdaBoostRegressor\n",
        "from sklearn.ensemble import BaggingRegressor\n",
        "from sklearn.ensemble import RandomForestRegressor\n",
        "from sklearn.ensemble import ExtraTreesRegressor\n",
        "from mlens.ensemble import SuperLearner\n",
        "# binomial\n",
        "from sklearn.neighbors import KNeighborsClassifier\n",
        "from sklearn.linear_model import LogisticRegression\n",
        "from sklearn.tree import DecisionTreeClassifier\n",
        "from sklearn.svm import SVC\n",
        "from sklearn.naive_bayes import GaussianNB\n",
        "from sklearn.ensemble import AdaBoostClassifier\n",
        "from sklearn.ensemble import BaggingClassifier\n",
        "from sklearn.ensemble import RandomForestClassifier\n",
        "from sklearn.ensemble import ExtraTreesClassifier\n",
        "from mlens.ensemble import SuperLearner\n",
        " \n",
        "# create a list of base-models\n",
        "def get_models(family):\n",
        "  models = list()\n",
        "  if family == \"gaussian\":\n",
        "    models.append(LinearRegression())\n",
        "    models.append(AdaBoostRegressor())\n",
        "  elif family == \"binomial\":\n",
        "    models.append(LogisticRegression(solver='lbfgs'))\n",
        "    models.append(AdaBoostClassifier())\n",
        "  return models\n",
        "\n",
        "\n",
        "# cost function for base models\n",
        "def rmse(y, yhat):\n",
        "  return sqrt(mean_squared_error(y, yhat))\n",
        "\n",
        "def negbinomlik(y, yhat):\n",
        "  np.mean(Y*np.log(yhat) + (1-Y)*np.log(1-yhat))\n",
        "  return sqrt(mean_squared_error(y, yhat))\n",
        " \n",
        "# create the super learner\n",
        "def get_super_learner(X, family):\n",
        "  if family == \"gaussian\":\n",
        "    ensemble = SuperLearner(scorer=rmse, folds=10, shuffle=True, sample_size=len(X))\n",
        "    # add base models\n",
        "    models = get_models(family)\n",
        "    ensemble.add(models)\n",
        "    # add the meta model\n",
        "    ensemble.add_meta(LinearRegression())\n",
        "  elif family == \"binomial\":\n",
        "    ensemble = SuperLearner(scorer=accuracy_score, folds=10, shuffle=True, sample_size=len(X))\n",
        "    # add base models\n",
        "    models = get_models(family)\n",
        "    ensemble.add(models)\n",
        "    # add the meta model\n",
        "    ensemble.add_meta(LogisticRegression(solver='lbfgs'), proba = True)\n",
        "  return ensemble"
      ],
      "metadata": {
        "id": "G8z4d0fwhZee"
      },
      "execution_count": null,
      "outputs": []
    },
    {
      "cell_type": "code",
      "source": [
        "# sl fit Q, g\n",
        "sl_Q = get_super_learner(WA, \"gaussian\")\n",
        "sl_Q.fit(WA, Y)\n",
        "\n",
        "sl_g = get_super_learner(W, \"binomial\")\n",
        "sl_g.fit(W, A)\n",
        "\n",
        "# pred Q\n",
        "WA_1 = np.copy(WA)\n",
        "WA_1[:,0] = 1\n",
        "WA_0 = np.copy(WA)\n",
        "WA_0[:,0] = 0\n",
        "\n",
        "Q1n = sl_Q.predict(WA_1)\n",
        "Q0n = sl_Q.predict(WA_0)\n",
        "Qan = A*Q1n + (1-A)*Q0n\n",
        "\n",
        "# pred g\n",
        "gn = sl_g.predict(W)[:,1]\n",
        "\n",
        "# aipw\n",
        "aipw = np.mean((Y - Q1n) * A/gn + Q1n)\n",
        "# aipw = np.mean(Q1n - Q0n + (2*A - 1)/gn * (Y - Qan))\n",
        "aipw"
      ],
      "metadata": {
        "id": "Njihz341hcml"
      },
      "execution_count": null,
      "outputs": []
    }
  ]
}